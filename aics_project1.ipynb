{
 "cells": [
  {
   "cell_type": "code",
   "execution_count": null,
   "id": "1b0bd82a-f294-4f01-abba-7cef133d2107",
   "metadata": {},
   "outputs": [],
   "source": []
  },
  {
   "cell_type": "markdown",
   "id": "42592d16-a2d0-4eda-8830-3e653e42ae57",
   "metadata": {},
   "source": [
    "# 1. Required Libraries"
   ]
  },
  {
   "cell_type": "code",
   "execution_count": 2,
   "id": "1e5c4395-eaa0-4786-9053-fcbd93a81654",
   "metadata": {},
   "outputs": [],
   "source": [
    "import torch\n",
    "import torch.nn as nn\n",
    "import torch.optim as optim\n",
    "from torchvision import models, transforms\n",
    "from torch.utils.data import Dataset, DataLoader\n",
    "from transformers import BertTokenizer, BertModel\n",
    "from PIL import Image"
   ]
  },
  {
   "cell_type": "markdown",
   "id": "936e68c5-b2bd-4eb2-8d7c-c177630a5fcf",
   "metadata": {},
   "source": [
    "# 2. Data Preprocessing"
   ]
  },
  {
   "cell_type": "markdown",
   "id": "4a601dc1-5b3a-45ba-9a4f-97dfbee72a1d",
   "metadata": {},
   "source": [
    "# Image Preprocessing\n",
    "We use a standard ResNet50 model for extracting features from images. Images are resized and normalized before feeding into the model."
   ]
  },
  {
   "cell_type": "code",
   "execution_count": 3,
   "id": "c9448ca8-2692-44fe-a1cc-0673d546db0a",
   "metadata": {},
   "outputs": [],
   "source": [
    "image_transforms = transforms.Compose([\n",
    "    transforms.Resize((224, 224)),\n",
    "    transforms.ToTensor(),\n",
    "    transforms.Normalize(mean=[0.485, 0.456, 0.406], std=[0.229, 0.224, 0.225]),\n",
    "])\n",
    "\n",
    "def preprocess_image(img_path):\n",
    "    image = Image.open(img_path).convert(\"RGB\")\n",
    "    return image_transforms(image)"
   ]
  },
  {
   "cell_type": "markdown",
   "id": "f642fd20-e342-49ab-8ede-c9245167b875",
   "metadata": {},
   "source": [
    "# Text Preprocessing\n",
    "We use a pretrained BERT tokenizer to tokenize and encode text inputs."
   ]
  },
  {
   "cell_type": "code",
   "execution_count": null,
   "id": "59eae284-f8fb-48dd-8436-a0ca614a1b17",
   "metadata": {},
   "outputs": [],
   "source": [
    "tokenizer = BertTokenizer.from_pretrained('bert-base-uncased')\n",
    "\n",
    "def preprocess_text(text, max_length=100):\n",
    "    encoded = tokenizer(text, padding='max_length', truncation=True, max_length=max_length, return_tensors=\"pt\")\n",
    "    return encoded['input_ids'].squeeze(0), encoded['attention_mask'].squeeze(0)"
   ]
  },
  {
   "cell_type": "markdown",
   "id": "36f38959-4e26-4fa9-9d8a-13033c551217",
   "metadata": {},
   "source": [
    "# 3. Sub-Networks"
   ]
  },
  {
   "cell_type": "markdown",
   "id": "3f8e65e9-90ab-4088-947d-73de4e66e0a2",
   "metadata": {},
   "source": [
    "# Image Embedding Network\n",
    "This network uses ResNet50 to extract image features and reduces them to a fixed-size embedding."
   ]
  },
  {
   "cell_type": "code",
   "execution_count": null,
   "id": "7d1fd864-9918-47fc-93a3-fd261e99d641",
   "metadata": {},
   "outputs": [],
   "source": [
    "class ImageEmbedding(nn.Module):\n",
    "    def __init__(self, embedding_dim=256):\n",
    "        super(ImageEmbedding, self).__init__()\n",
    "        base_model = models.resnet50(pretrained=True)\n",
    "        self.feature_extractor = nn.Sequential(*list(base_model.children())[:-1])  # Remove the final classification layer\n",
    "        self.fc = nn.Linear(2048, embedding_dim)  # Reduce to embedding dimension\n",
    "\n",
    "    def forward(self, x):\n",
    "        features = self.feature_extractor(x)\n",
    "        features = features.view(features.size(0), -1)\n",
    "        embedding = self.fc(features)\n",
    "        return embedding"
   ]
  },
  {
   "cell_type": "markdown",
   "id": "3a6b7661-0b63-4372-a1d3-a4f2181beb0d",
   "metadata": {},
   "source": [
    "# Text Embedding Network\n",
    "This network uses BERT to extract text embeddings, followed by a linear layer to reduce dimensions."
   ]
  },
  {
   "cell_type": "code",
   "execution_count": null,
   "id": "7b6b57b9-7493-4488-9818-4b334c6124e7",
   "metadata": {},
   "outputs": [],
   "source": [
    "class TextEmbedding(nn.Module):\n",
    "    def __init__(self, embedding_dim=256):\n",
    "        super(TextEmbedding, self).__init__()\n",
    "        self.bert = BertModel.from_pretrained('bert-base-uncased')\n",
    "        self.fc = nn.Linear(768, embedding_dim)\n",
    "\n",
    "    def forward(self, input_ids, attention_mask):\n",
    "        outputs = self.bert(input_ids=input_ids, attention_mask=attention_mask)\n",
    "        cls_embedding = outputs.pooler_output  # CLS token representation\n",
    "        embedding = self.fc(cls_embedding)\n",
    "        return embedding"
   ]
  },
  {
   "cell_type": "markdown",
   "id": "6925d5f9-5616-4a38-ab90-860e54012830",
   "metadata": {},
   "source": [
    "# 4. Cross-Attention Mechanism\n",
    "The cross-attention mechanism allows one modality (e.g., text) to attend to another (e.g., image)."
   ]
  },
  {
   "cell_type": "code",
   "execution_count": null,
   "id": "3c9a31b4-54e5-4298-8d73-82aa01a1a136",
   "metadata": {},
   "outputs": [],
   "source": [
    "class CrossAttention(nn.Module):\n",
    "    def __init__(self, embed_dim, num_heads):\n",
    "        super(CrossAttention, self).__init__()\n",
    "        self.multihead_attn = nn.MultiheadAttention(embed_dim=embed_dim, num_heads=num_heads, batch_first=True)\n",
    "        self.fc = nn.Linear(embed_dim, embed_dim)\n",
    "\n",
    "    def forward(self, query, key, value):\n",
    "        attn_output, _ = self.multihead_attn(query, key, value)\n",
    "        output = self.fc(attn_output)\n",
    "        return output"
   ]
  },
  {
   "cell_type": "markdown",
   "id": "5141aab1-7a5c-4bfa-850c-3125496f6a47",
   "metadata": {},
   "source": [
    "# 5. Siamese Network with Cross-Attention\n",
    "This combines image and text embeddings using cross-attention and computes similarity scores."
   ]
  },
  {
   "cell_type": "code",
   "execution_count": null,
   "id": "40341d9e-d614-4c4b-b49d-539c3699a0f4",
   "metadata": {},
   "outputs": [],
   "source": [
    "class SiameseNetworkWithCrossAttention(nn.Module):\n",
    "    def __init__(self, embedding_dim=256, num_heads=4):\n",
    "        super(SiameseNetworkWithCrossAttention, self).__init__()\n",
    "        self.image_embedding = ImageEmbedding(embedding_dim)\n",
    "        self.text_embedding = TextEmbedding(embedding_dim)\n",
    "        self.cross_attention = CrossAttention(embed_dim=embedding_dim, num_heads=num_heads)\n",
    "        self.fc = nn.Linear(embedding_dim * 2, embedding_dim)\n",
    "\n",
    "    def forward(self, img1, img2, text1, mask1, text2, mask2):\n",
    "        # Extract embeddings\n",
    "        img_emb1 = self.image_embedding(img1)\n",
    "        img_emb2 = self.image_embedding(img2)\n",
    "        text_emb1 = self.text_embedding(text1, mask1)\n",
    "        text_emb2 = self.text_embedding(text2, mask2)\n",
    "\n",
    "        # Apply cross-attention\n",
    "        img_text_emb1 = self.cross_attention(text_emb1.unsqueeze(1), img_emb1.unsqueeze(1), img_emb1.unsqueeze(1)).squeeze(1)\n",
    "        img_text_emb2 = self.cross_attention(text_emb2.unsqueeze(1), img_emb2.unsqueeze(1), img_emb2.unsqueeze(1)).squeeze(1)\n",
    "\n",
    "        # Combine embeddings\n",
    "        combined_emb1 = torch.cat((img_emb1, img_text_emb1), dim=1)\n",
    "        combined_emb2 = torch.cat((img_emb2, img_text_emb2), dim=1)\n",
    "\n",
    "        # Reduce to a single embedding\n",
    "        combined_emb1 = self.fc(combined_emb1)\n",
    "        combined_emb2 = self.fc(combined_emb2)\n",
    "\n",
    "        return combined_emb1, combined_emb2"
   ]
  },
  {
   "cell_type": "markdown",
   "id": "ca7de09d-6583-45b4-afc2-61d371a5101f",
   "metadata": {},
   "source": [
    "# 6. Loss Function\n",
    "The contrastive loss function encourages similar pairs to have closer embeddings and dissimilar pairs to have distant embeddings."
   ]
  },
  {
   "cell_type": "code",
   "execution_count": null,
   "id": "cdcef76b-61e1-4b91-9f6d-994567d07629",
   "metadata": {},
   "outputs": [],
   "source": [
    "class ContrastiveLoss(nn.Module):\n",
    "    def __init__(self, margin=1.0):\n",
    "        super(ContrastiveLoss, self).__init__()\n",
    "        self.margin = margin\n",
    "\n",
    "    def forward(self, emb1, emb2, label):\n",
    "        euclidean_distance = torch.nn.functional.pairwise_distance(emb1, emb2)\n",
    "        loss = (label * torch.square(euclidean_distance)) + \\\n",
    "               ((1 - label) * torch.square(torch.clamp(self.margin - euclidean_distance, min=0.0)))\n",
    "        return loss.mean()"
   ]
  },
  {
   "cell_type": "markdown",
   "id": "ed26c25c-9871-4848-ad63-b5f8b934385c",
   "metadata": {},
   "source": [
    "# 7. Training and Evaluation"
   ]
  },
  {
   "cell_type": "markdown",
   "id": "a720f821-5d86-46c2-9c40-ad6871147327",
   "metadata": {},
   "source": [
    "# Training Loop"
   ]
  },
  {
   "cell_type": "code",
   "execution_count": null,
   "id": "15c04064-cabc-467a-a9da-cdc69a5ce22f",
   "metadata": {},
   "outputs": [],
   "source": [
    "model = SiameseNetworkWithCrossAttention()\n",
    "criterion = ContrastiveLoss()\n",
    "optimizer = optim.Adam(model.parameters(), lr=1e-4)\n",
    "\n",
    "for epoch in range(num_epochs):\n",
    "    model.train()\n",
    "    for img1, img2, text1, mask1, text2, mask2, labels in train_loader:\n",
    "        optimizer.zero_grad()\n",
    "        emb1, emb2 = model(img1, img2, text1, mask1, text2, mask2)\n",
    "        loss = criterion(emb1, emb2, labels)\n",
    "        loss.backward()\n",
    "        optimizer.step()\n",
    "\n",
    "    print(f\"Epoch {epoch+1}/{num_epochs}, Loss: {loss.item()}\")"
   ]
  },
  {
   "cell_type": "markdown",
   "id": "23b31926-38a5-4f77-87d9-7758876d4942",
   "metadata": {},
   "source": [
    "# Evaluation "
   ]
  },
  {
   "cell_type": "code",
   "execution_count": null,
   "id": "e4e0678a-df18-4a11-9d45-9c4c85a95401",
   "metadata": {},
   "outputs": [],
   "source": [
    "model.eval()\n",
    "with torch.no_grad():\n",
    "    for img1, img2, text1, mask1, text2, mask2, labels in test_loader:\n",
    "        emb1, emb2 = model(img1, img2, text1, mask1, text2, mask2)\n",
    "        euclidean_distance = torch.nn.functional.pairwise_distance(emb1, emb2)\n",
    "        # Evaluate accuracy, precision, recall, etc."
   ]
  },
  {
   "cell_type": "markdown",
   "id": "47ab2e25-ed63-466e-a60b-8b9180e83f9f",
   "metadata": {},
   "source": [
    "# 8. DataLoader Example\n",
    "Prepare the dataset and dataloader for training and evaluation."
   ]
  },
  {
   "cell_type": "code",
   "execution_count": null,
   "id": "276438a6-7e1a-4afb-8a78-a7eebc86c4fc",
   "metadata": {},
   "outputs": [],
   "source": [
    "class WikiDiverseDataset(Dataset):\n",
    "    def __init__(self, image_paths, texts, labels, tokenizer, transform):\n",
    "        self.image_paths = image_paths\n",
    "        self.texts = texts\n",
    "        self.labels = labels\n",
    "        self.tokenizer = tokenizer\n",
    "        self.transform = transform\n",
    "\n",
    "    def __len__(self):\n",
    "        return len(self.labels)\n",
    "\n",
    "    def __getitem__(self, idx):\n",
    "        img_path = self.image_paths[idx]\n",
    "        text = self.texts[idx]\n",
    "        label = self.labels[idx]\n",
    "\n",
    "        img = preprocess_image(img_path)\n",
    "        input_ids, attention_mask = preprocess_text(text)\n",
    "\n",
    "        return img, input_ids, attention_mask, label\n",
    "\n",
    "# Usage\n",
    "train_dataset = WikiDiverseDataset(train_image_paths, train_texts, train_labels, tokenizer, image_transforms)\n",
    "train_loader = DataLoader(train_dataset, batch_size=32, shuffle=True)"
   ]
  },
  {
   "cell_type": "code",
   "execution_count": null,
   "id": "2692f13c-8559-41aa-baf8-b01241cb13ef",
   "metadata": {},
   "outputs": [],
   "source": []
  },
  {
   "cell_type": "code",
   "execution_count": null,
   "id": "b314ef0c-5ec8-4270-8e5d-eba92c05e679",
   "metadata": {},
   "outputs": [],
   "source": []
  },
  {
   "cell_type": "markdown",
   "id": "2d6bcf5f-41cf-481c-af56-676a689113d6",
   "metadata": {},
   "source": [
    "  #### END #####"
   ]
  },
  {
   "cell_type": "code",
   "execution_count": null,
   "id": "9c96230c-a5f7-4246-928c-a36c0f4f0282",
   "metadata": {},
   "outputs": [],
   "source": []
  },
  {
   "cell_type": "code",
   "execution_count": null,
   "id": "d76445d8-5b33-4aae-b964-87c6ae2ce2f8",
   "metadata": {},
   "outputs": [],
   "source": []
  },
  {
   "cell_type": "code",
   "execution_count": null,
   "id": "d65f3d58-0f94-4837-828c-844f4c7a207b",
   "metadata": {},
   "outputs": [],
   "source": []
  },
  {
   "cell_type": "code",
   "execution_count": null,
   "id": "8c11edb3-7775-4094-8d1d-b757416303bc",
   "metadata": {},
   "outputs": [],
   "source": []
  },
  {
   "cell_type": "code",
   "execution_count": null,
   "id": "77556f26-ee5f-4423-9043-74bc5fb65270",
   "metadata": {},
   "outputs": [],
   "source": []
  },
  {
   "cell_type": "code",
   "execution_count": null,
   "id": "9570f899-8c0b-42ee-82d5-81fb9e300512",
   "metadata": {},
   "outputs": [],
   "source": []
  },
  {
   "cell_type": "code",
   "execution_count": null,
   "id": "32375490-89ba-4dcc-9314-b8c926c50baa",
   "metadata": {},
   "outputs": [],
   "source": []
  },
  {
   "cell_type": "markdown",
   "id": "db32a80a-6e60-4401-a258-5dbb84601755",
   "metadata": {},
   "source": [
    "# 1. Overview\n",
    "This implementation is a multimodal entity linking system that leverages both text and image information to perform entity disambiguation. The model uses BERT for text encoding and CLIP for image encoding. A cross-attention mechanism fuses text and image features, and a disambiguation head predicts the correct entity from a list of candidates. The system includes training and validation loops to optimize the model.\n",
    "# Key Components\n",
    "-Text Encoder: BERT-based textual feature extraction\n",
    "- Image Encoder: CLIP-based image feature extraction\n",
    "- Cross-Attention: Fuse text and image representations\n",
    "- Entity Disambiguation Head: Predict the correct entity\n",
    "- Training and Validation: Dataset handling, loss computation, and optimizer setup\n",
    "# Data Requiremnt (each sample in the data includes) \n",
    "- 'text': The textual description or context\n",
    "- 'image_path': Path to the corresponding image file\n",
    "- 'label': Index of the correct entity in the candidate list"
   ]
  },
  {
   "cell_type": "markdown",
   "id": "09e9a43b-505c-4844-b073-416c2b69fb1e",
   "metadata": {},
   "source": [
    "# 2. Required Libraries "
   ]
  },
  {
   "cell_type": "code",
   "execution_count": null,
   "id": "31642bdd-308d-4e56-a919-c4aada296d38",
   "metadata": {},
   "outputs": [],
   "source": [
    "#import torch\n",
    "#import torch.nn as nn\n",
    "#import torch.optim as optim\n",
    "#from transformers import BertTokenizer, BertModel, CLIPProcessor, CLIPModel, get_scheduler\n",
    "#import torch.nn.functional as F\n",
    "#from PIL import Image\n",
    "#from tqdm import tqdm\n",
    "#from torch.utils.data import Dataset, DataLoader"
   ]
  },
  {
   "cell_type": "markdown",
   "id": "05d2ad2c-565e-4686-9654-2efe510905c3",
   "metadata": {},
   "source": [
    "# 3. Textual Encoder (BERT-based) and Image Encoder (CLIP)"
   ]
  },
  {
   "cell_type": "code",
   "execution_count": null,
   "id": "01a82bc2-0e9f-4185-9fab-cc494aaa8a88",
   "metadata": {},
   "outputs": [],
   "source": [
    "# Initialize BERT tokenizer and model for textual encoding\n",
    "#tokenizer = BertTokenizer.from_pretrained('bert-base-uncased')\n",
    "#bert_model = BertModel.from_pretrained('bert-base-uncased')"
   ]
  },
  {
   "cell_type": "code",
   "execution_count": 3,
   "id": "0f7fd9ac-2d92-4d5e-b740-c64f6d3dcf47",
   "metadata": {},
   "outputs": [],
   "source": [
    "# Initialize CLIP processor and model for image encoding\n",
    "#clip_processor = CLIPProcessor.from_pretrained(\"openai/clip-vit-base-patch16\")\n",
    "#clip_model = CLIPModel.from_pretrained(\"openai/clip-vit-base-patch16\")"
   ]
  },
  {
   "cell_type": "markdown",
   "id": "75556716-2437-448d-9dab-e50a8c57c709",
   "metadata": {},
   "source": [
    "# 4. Multimodal Attention Layer"
   ]
  },
  {
   "cell_type": "code",
   "execution_count": 4,
   "id": "f84105e0-28e2-401f-b7f6-4ef61bb8065b",
   "metadata": {},
   "outputs": [],
   "source": [
    "#class CrossAttentionLayer(nn.Module):\n",
    "#    def __init__(self, hidden_size, num_attention_heads):\n",
    "#        super(CrossAttentionLayer, self).__init__()\n",
    "#        self.attention = nn.MultiheadAttention(embed_dim=hidden_size, num_heads=num_attention_heads)\n",
    "#        self.fc = nn.Linear(hidden_size, hidden_size)\n",
    "#\n",
    "#    def forward(self, text_features, image_features):\n",
    "#        text_features = text_features.unsqueeze(0)\n",
    "#        image_features = image_features.unsqueeze(0)\n",
    "#\n",
    "#        # Perform attention between text and image features\n",
    "#        attn_output_text, _ = self.attention(text_features, image_features, image_features)\n",
    "#        attn_output_image, _ = self.attention(image_features, text_features, text_features)\n",
    "#        \n",
    "#        combined_output = attn_output_text + attn_output_image\n",
    "#        combined_output = self.fc(combined_output)\n",
    "#        return combined_output"
   ]
  },
  {
   "cell_type": "markdown",
   "id": "0191c70b-a83f-4a52-beae-4ed3aed06481",
   "metadata": {},
   "source": [
    "# 5. Entity Disambiguation"
   ]
  },
  {
   "cell_type": "code",
   "execution_count": 5,
   "id": "cca8f125-cbfb-4604-a820-d0cfd8926d06",
   "metadata": {},
   "outputs": [],
   "source": [
    "#class EntityDisambiguationHead(nn.Module):\n",
    " #   def __init__(self, hidden_size, num_candidates):\n",
    "  #      super(EntityDisambiguationHead, self).__init__()\n",
    "   #     self.fc1 = nn.Linear(hidden_size, 512)\n",
    "    #    self.fc2 = nn.Linear(512, num_candidates)\n",
    "     #   self.softmax = nn.Softmax(dim=-1)\n",
    "\n",
    "    #def forward(self, features):\n",
    "     #   x = F.relu(self.fc1(features))\n",
    "      #  x = self.fc2(x)\n",
    "       # return self.softmax(x)"
   ]
  },
  {
   "cell_type": "markdown",
   "id": "8286d5c1-0574-47ea-a71a-23a1b9612093",
   "metadata": {},
   "source": [
    "# 6. Multimodal Entity Linking Model"
   ]
  },
  {
   "cell_type": "code",
   "execution_count": 6,
   "id": "d1dd38e0-d1eb-457e-b60a-287d27368cb6",
   "metadata": {},
   "outputs": [],
   "source": [
    "#class MultimodalEntityLinkingModel(nn.Module):\n",
    "#    def __init__(self, hidden_size, num_attention_heads, num_candidates):\n",
    "#        super(MultimodalEntityLinkingModel, self).__init__()\n",
    "#        self.text_encoder = bert_model\n",
    "#        self.image_encoder = clip_model\n",
    "#        self.cross_attention_layer = CrossAttentionLayer(hidden_size, num_attention_heads)\n",
    "#        self.disambiguation_head = EntityDisambiguationHead(hidden_size, num_candidates)\n",
    "#\n",
    "#    def forward(self, text_input, image_input):\n",
    "#        # Textual feature extraction using BERT\n",
    "#        encoded_input = tokenizer(text_input, return_tensors='pt', padding=True, truncation=True)\n",
    "#        text_output = self.text_encoder(**encoded_input).last_hidden_state  # shape: (batch_size, seq_len, hidden_size)\n",
    "#        \n",
    "#        # Image feature extraction using CLIP\n",
    "#        inputs = clip_processor(text=[text_input], images=image_input, return_tensors=\"pt\", padding=True)\n",
    "#        outputs = self.image_encoder(**inputs)\n",
    "#        image_features = outputs.image_embeds  # shape: (batch_size, embedding_dim)\n",
    "#\n",
    "#        # Apply cross-attention to fuse text and image features\n",
    "#        combined_features = self.cross_attention_layer(text_output, image_features)\n",
    "\n",
    "#        # Disambiguate and predict the entity\n",
    "#        entity_scores = self.disambiguation_head(combined_features.squeeze(0))  # Removing batch dimension\n",
    "#        return entity_scores"
   ]
  },
  {
   "cell_type": "markdown",
   "id": "e4684801-e81d-45e7-b9de-225290da4e22",
   "metadata": {},
   "source": [
    "# 7. Dataset class"
   ]
  },
  {
   "cell_type": "code",
   "execution_count": null,
   "id": "d44e8afa-bdfb-4659-8b2f-7b7b7c76819c",
   "metadata": {},
   "outputs": [],
   "source": [
    "#class WikiDiverseDataset(Dataset):\n",
    "#    def __init__(self, data, tokenizer, clip_processor):\n",
    "#        self.data = data\n",
    "#        self.tokenizer = tokenizer\n",
    "#        self.clip_processor = clip_processor\n",
    "#\n",
    "#    def __len__(self):\n",
    "#        return len(self.data)\n",
    "#\n",
    "#    def __getitem__(self, idx):\n",
    "#        sample = self.data[idx]\n",
    "#        text = sample['text']\n",
    "#        image_path = sample['image_path']\n",
    "#        label = sample['label']\n",
    "#\n",
    "#        # Process text\n",
    "#        encoded_text = self.tokenizer(text, return_tensors='pt', padding=True, truncation=True)\n",
    "#\n",
    "        # Process image\n",
    " #       image = Image.open(image_path).convert(\"RGB\")\n",
    " #       processed_image = self.clip_processor(images=image, return_tensors=\"pt\").pixel_values.squeeze(0)\n",
    "\n",
    " #       return encoded_text, processed_image, label"
   ]
  },
  {
   "cell_type": "markdown",
   "id": "6a2d7e63-038d-45d2-83e6-81f47da3a52e",
   "metadata": {},
   "source": [
    "# 8. Training and Validation Function "
   ]
  },
  {
   "cell_type": "markdown",
   "id": "b1f9adcf-1025-4314-99ce-29c9c9d4346b",
   "metadata": {},
   "source": [
    "def train_model(model, dataloader, optimizer, criterion, device):\n",
    "    model.train()\n",
    "    total_loss = 0\n",
    "    total_accuracy = 0\n",
    "\n",
    "    for batch in tqdm(dataloader, desc=\"Training\"):\n",
    "        encoded_text, processed_image, labels = batch\n",
    "        encoded_text = {key: val.squeeze(0).to(device) for key, val in encoded_text.items()}\n",
    "        processed_image = processed_image.to(device)\n",
    "        labels = labels.to(device)\n",
    "\n",
    "        optimizer.zero_grad()\n",
    "        entity_scores = model(encoded_text, processed_image)\n",
    "        loss = criterion(entity_scores, labels)\n",
    "        loss.backward()\n",
    "        optimizer.step()\n",
    "\n",
    "        predictions = torch.argmax(entity_scores, dim=1)\n",
    "        accuracy = (predictions == labels).float().mean()\n",
    "\n",
    "        total_loss += loss.item()\n",
    "        total_accuracy += accuracy.item()\n",
    "\n",
    "    return total_loss / len(dataloader), total_accuracy / len(dataloader)\n",
    "\n",
    "def validate_model(model, dataloader, criterion, device):\n",
    "    model.eval()\n",
    "    total_loss = 0\n",
    "    total_accuracy = 0\n",
    "\n",
    "    with torch.no_grad():\n",
    "        for batch in tqdm(dataloader, desc=\"Validation\"):\n",
    "            encoded_text, processed_image, labels = batch\n",
    "            encoded_text = {key: val.squeeze(0).to(device) for key, val in encoded_text.items()}\n",
    "            processed_image = processed_image.to(device)\n",
    "            labels = labels.to(device)\n",
    "\n",
    "            entity_scores = model(encoded_text, processed_image)\n",
    "            loss = criterion(entity_scores, labels)\n",
    "\n",
    "            predictions = torch.argmax(entity_scores, dim=1)\n",
    "            accuracy = (predictions == labels).float().mean()\n",
    "\n",
    "            total_loss += loss.item()\n",
    "            total_accuracy += accuracy.item()\n",
    "\n",
    "    return total_loss / len(dataloader), total_accuracy / len(dataloader)"
   ]
  },
  {
   "cell_type": "markdown",
   "id": "763ce7b6-0d08-48b8-9600-369000902b0a",
   "metadata": {},
   "source": [
    "# 9. Training Loop"
   ]
  },
  {
   "cell_type": "markdown",
   "id": "c9109784-ca83-4d49-927b-9ae10636e472",
   "metadata": {},
   "source": [
    "hidden_size = 768\n",
    "num_attention_heads = 8\n",
    "num_candidates = 10\n",
    "num_epochs = 5\n",
    "batch_size = 16\n",
    "learning_rate = 2e-5\n",
    "\n",
    "device = torch.device('cuda' if torch.cuda.is_available() else 'cpu')\n",
    "train_dataset = WikiDiverseDataset(train_data, tokenizer, clip_processor)\n",
    "val_dataset = WikiDiverseDataset(val_data, tokenizer, clip_processor)\n",
    "train_dataloader = DataLoader(train_dataset, batch_size=batch_size, shuffle=True)\n",
    "val_dataloader = DataLoader(val_dataset, batch_size=batch_size)\n",
    "\n",
    "model = MultimodalEntityLinkingModel(hidden_size, num_attention_heads, num_candidates).to(device)\n",
    "optimizer = optim.AdamW(model.parameters(), lr=learning_rate)\n",
    "criterion = nn.CrossEntropyLoss()\n",
    "\n",
    "num_training_steps = num_epochs * len(train_dataloader)\n",
    "lr_scheduler = get_scheduler(\"linear\", optimizer=optimizer, num_warmup_steps=0, num_training_steps=num_training_steps)\n",
    "\n",
    "for epoch in range(num_epochs):\n",
    "    print(f\"Epoch {epoch + 1}/{num_epochs}\")\n",
    "\n",
    "    train_loss, train_acc = train_model(model, train_dataloader, optimizer, criterion, device)\n",
    "    val_loss, val_acc = validate_model(model, val_dataloader, criterion, device)\n",
    "\n",
    "    print(f\"Train Loss: {train_loss:.4f}, Train Accuracy: {train_acc:.4f}\")\n",
    "    print(f\"Validation Loss: {val_loss:.4f}, Validation Accuracy: {val_acc:.4f}\")\n",
    "    lr_scheduler.step()"
   ]
  }
 ],
 "metadata": {
  "kernelspec": {
   "display_name": "Python 3 (ipykernel)",
   "language": "python",
   "name": "python3"
  },
  "language_info": {
   "codemirror_mode": {
    "name": "ipython",
    "version": 3
   },
   "file_extension": ".py",
   "mimetype": "text/x-python",
   "name": "python",
   "nbconvert_exporter": "python",
   "pygments_lexer": "ipython3",
   "version": "3.9.21"
  }
 },
 "nbformat": 4,
 "nbformat_minor": 5
}
